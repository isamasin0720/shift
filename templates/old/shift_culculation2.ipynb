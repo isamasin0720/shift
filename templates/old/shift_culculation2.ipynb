{
 "cells": [
  {
   "cell_type": "code",
   "execution_count": 6,
   "metadata": {},
   "outputs": [
    {
     "name": "stdout",
     "output_type": "stream",
     "text": [
      "日勤の勤務時間を入力してください8\n",
      "日勤の人数を入力してください6\n",
      "夜勤の勤務時間を入力してください2\n",
      "夜勤の人数を入力してください4\n",
      "パートの勤務時間を入力してください5\n",
      "パートの人数を入力してください7\n",
      "看護師の勤務時間を入力してください6\n",
      "看護師の人数を入力してください4\n",
      "要介護利用者数を入力してください30\n",
      "人員配置人数は、 1.4906832298136645 です。\n"
     ]
    }
   ],
   "source": [
    "def shift_analysis(day_worktime, day_shiftnumber, night_worktime, night_shiftnumber, part_worktime, part_shiftnumber, nurse_worktime, nurse_shiftnumber, must_carenumber):\n",
    "    daytotal = ((day_worktime * day_shiftnumber) + (night_worktime * night_shiftnumber) + (part_worktime * part_shiftnumber) + (nurse_worktime * nurse_shiftnumber))\n",
    "    weektotal = int(daytotal)* 7\n",
    "    weekaverage = int(weektotal) / 40\n",
    "    result = must_carenumber / float(weekaverage)\n",
    "    return float(result)\n",
    "\n",
    "a = input(\"日勤の勤務時間を入力してください\")\n",
    "day_worktime = int(a)\n",
    "b = input(\"日勤の人数を入力してください\")\n",
    "day_shiftnumber = int(b)\n",
    "c = input(\"夜勤の勤務時間を入力してください\")\n",
    "night_worktime = int(c)\n",
    "d = input(\"夜勤の人数を入力してください\")\n",
    "night_shiftnumber = int(d)\n",
    "e = input(\"パートの勤務時間を入力してください\")\n",
    "part_worktime = int(e)\n",
    "f = input(\"パートの人数を入力してください\")\n",
    "part_shiftnumber = int(f)\n",
    "g = input(\"看護師の勤務時間を入力してください\")\n",
    "nurse_worktime = int(g)\n",
    "h = input(\"看護師の人数を入力してください\")\n",
    "nurse_shiftnumber = int(h)\n",
    "i = input(\"要介護利用者数を入力してください\")\n",
    "must_carenumber = int(i)\n",
    "\n",
    "v = shift_analysis(day_worktime, day_shiftnumber, night_worktime, night_shiftnumber, part_worktime, part_shiftnumber, nurse_worktime, nurse_shiftnumber, must_carenumber)\n",
    "print(\"人員配置人数は、\", v, \"です。\")"
   ]
  },
  {
   "cell_type": "code",
   "execution_count": null,
   "metadata": {},
   "outputs": [],
   "source": []
  }
 ],
 "metadata": {
  "kernelspec": {
   "display_name": "Python 3",
   "language": "python",
   "name": "python3"
  },
  "language_info": {
   "codemirror_mode": {
    "name": "ipython",
    "version": 3
   },
   "file_extension": ".py",
   "mimetype": "text/x-python",
   "name": "python",
   "nbconvert_exporter": "python",
   "pygments_lexer": "ipython3",
   "version": "3.8.5"
  }
 },
 "nbformat": 4,
 "nbformat_minor": 4
}
