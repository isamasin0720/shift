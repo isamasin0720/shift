{
 "cells": [
  {
   "cell_type": "code",
   "execution_count": 1,
   "metadata": {},
   "outputs": [
    {
     "name": "stdout",
     "output_type": "stream",
     "text": [
      "Hello World!\n"
     ]
    }
   ],
   "source": [
    "print('Hello World!')"
   ]
  },
  {
   "cell_type": "code",
   "execution_count": 8,
   "metadata": {},
   "outputs": [
    {
     "name": "stdout",
     "output_type": "stream",
     "text": [
      "日勤の勤務時間を入力してください8\n",
      "日勤の人数を入力してください6\n",
      "夜勤の勤務時間を入力してください16\n",
      "夜勤の人数を入力してください3\n",
      "パートの勤務時間を入力してください0\n",
      "パートの人数を入力してください0\n",
      "看護師の勤務時間を入力してください8\n",
      "看護師の人数を入力してください5\n",
      "要介護利用者数を入力してください63\n"
     ]
    },
    {
     "ename": "TypeError",
     "evalue": "can't multiply sequence by non-int of type 'str'",
     "output_type": "error",
     "traceback": [
      "\u001b[0;31m---------------------------------------------------------------------------\u001b[0m",
      "\u001b[0;31mTypeError\u001b[0m                                 Traceback (most recent call last)",
      "\u001b[0;32m<ipython-input-8-654a37a765e5>\u001b[0m in \u001b[0;36m<module>\u001b[0;34m\u001b[0m\n\u001b[1;32m      9\u001b[0m \u001b[0mi\u001b[0m \u001b[0;34m=\u001b[0m \u001b[0minput\u001b[0m\u001b[0;34m(\u001b[0m\u001b[0;34m\"要介護利用者数を入力してください\"\u001b[0m\u001b[0;34m)\u001b[0m\u001b[0;34m\u001b[0m\u001b[0;34m\u001b[0m\u001b[0m\n\u001b[1;32m     10\u001b[0m \u001b[0;34m\u001b[0m\u001b[0m\n\u001b[0;32m---> 11\u001b[0;31m \u001b[0mdaytotal\u001b[0m \u001b[0;34m=\u001b[0m \u001b[0;34m(\u001b[0m\u001b[0;34m(\u001b[0m\u001b[0ma\u001b[0m \u001b[0;34m*\u001b[0m \u001b[0mb\u001b[0m\u001b[0;34m)\u001b[0m \u001b[0;34m+\u001b[0m \u001b[0;34m(\u001b[0m\u001b[0mc\u001b[0m \u001b[0;34m*\u001b[0m \u001b[0md\u001b[0m\u001b[0;34m)\u001b[0m \u001b[0;34m+\u001b[0m \u001b[0;34m(\u001b[0m\u001b[0me\u001b[0m \u001b[0;34m*\u001b[0m \u001b[0mf\u001b[0m\u001b[0;34m)\u001b[0m \u001b[0;34m+\u001b[0m \u001b[0;34m(\u001b[0m\u001b[0mg\u001b[0m \u001b[0;34m*\u001b[0m \u001b[0mh\u001b[0m\u001b[0;34m)\u001b[0m\u001b[0;34m)\u001b[0m\u001b[0;34m\u001b[0m\u001b[0;34m\u001b[0m\u001b[0m\n\u001b[0m\u001b[1;32m     12\u001b[0m \u001b[0mweektotal\u001b[0m \u001b[0;34m=\u001b[0m \u001b[0mint\u001b[0m\u001b[0;34m(\u001b[0m\u001b[0mdaytotal\u001b[0m\u001b[0;34m)\u001b[0m\u001b[0;34m*\u001b[0m \u001b[0;36m7\u001b[0m\u001b[0;34m\u001b[0m\u001b[0;34m\u001b[0m\u001b[0m\n\u001b[1;32m     13\u001b[0m \u001b[0mweekaverage\u001b[0m \u001b[0;34m=\u001b[0m \u001b[0mweektotal\u001b[0m \u001b[0;34m/\u001b[0m \u001b[0;36m40\u001b[0m\u001b[0;34m\u001b[0m\u001b[0;34m\u001b[0m\u001b[0m\n",
      "\u001b[0;31mTypeError\u001b[0m: can't multiply sequence by non-int of type 'str'"
     ]
    }
   ],
   "source": [
    "a = input(\"日勤の勤務時間を入力してください\")\n",
    "b = input(\"日勤の人数を入力してください\")\n",
    "c = input(\"夜勤の勤務時間を入力してください\")\n",
    "d = input(\"夜勤の人数を入力してください\")\n",
    "e = input(\"パートの勤務時間を入力してください\")\n",
    "f = input(\"パートの人数を入力してください\")\n",
    "g = input(\"看護師の勤務時間を入力してください\")\n",
    "h = input(\"看護師の人数を入力してください\")\n",
    "i = input(\"要介護利用者数を入力してください\")\n",
    "\n",
    "daytotal = ((a * b) + (c * d) + (e * f) + (g * h))\n",
    "weektotal = int(daytotal)* 7\n",
    "weekaverage = weektotal / 40 \n",
    "print(i / weekaverage)"
   ]
  },
  {
   "cell_type": "code",
   "execution_count": null,
   "metadata": {},
   "outputs": [],
   "source": [
    "def shift_analysis(day_worktime, day_shiftnumber, night_worktime, night_shiftnumber, part_worktime, part_shiftnumber, nurse_worktime, nurse_shiftnumber, must_carenumber):\n",
    "    daytotal = ((day_worktime * day_shiftnumber) + (night_woktime * night_shiftnumber) + (part_worktime * part_shiftnumber) + (nurse_worktime * nurse_shiftnumber))\n",
    "    weektotal = int(daytotal)* 7\n",
    "    weekaverage = int(weektotal) / 40\n",
    "    return float(weekaverage)\n",
    "\n",
    "a = input(\"日勤の勤務時間を入力してください\")\n",
    "day_worktime = int(a)\n",
    "b = input(\"日勤の人数を入力してください\")\n",
    "day_shiftnumber = int(b)\n",
    "c = input(\"夜勤の勤務時間を入力してください\")\n",
    "night_worktime = int(c)\n",
    "d = input(\"夜勤の人数を入力してください\")\n",
    "night_shiftnumber = int(d)\n",
    "e = input(\"パートの勤務時間を入力してください\")\n",
    "part_worktime = int(e)\n",
    "f = input(\"パートの人数を入力してください\")\n",
    "part_shiftnumber = int(f)\n",
    "g = input(\"看護師の勤務時間を入力してください\")\n",
    "nurse_worktime = int(g)\n",
    "h = input(\"看護師の人数を入力してください\")\n",
    "nurse_shiftnumber = int(h)\n",
    "i = input(\"要介護利用者数を入力してください\")\n",
    "must_carenumber = int(i)\n",
    "\n",
    "v = shift_analysis(day_woktime, day_shiftnumber, night_worktime, night_shiftnumber, part_worktime, part_shiftnumber, nurse_worktime, nurse_shiftnumber, must_carenumber)\n",
    "print(\"人員配置人数は、\", v, \"です。\")"
   ]
  },
  {
   "cell_type": "code",
   "execution_count": null,
   "metadata": {},
   "outputs": [],
   "source": [
    "def shift_analysis(day_worktime, day_shiftnumber, night_worktime, night_shiftnumber, part_worktime, part_shiftnumber, nurse_worktime, nurse_shiftnumber, must_carenumber):\n",
    "    daytotal = ((day_worktime * day_shiftnumber) + (night_woktime * night_shiftnumber) + (part_worktime * part_shiftnumber) + (nurse_worktime * nurse_shiftnumber))\n",
    "    weektotal = int(daytotal)* 7\n",
    "    weekaverage = int(weektotal) / 40\n",
    "    return float(weekaverage)\n",
    "\n",
    "a = input(\"日勤の勤務時間を入力してください\")\n",
    "day_worktime = int(a)\n",
    "b = input(\"日勤の人数を入力してください\")\n",
    "day_shiftnumber = int(b)\n",
    "c = input(\"夜勤の勤務時間を入力してください\")\n",
    "night_worktime = int(c)\n",
    "d = input(\"夜勤の人数を入力してください\")\n",
    "night_shiftnumber = int(d)\n",
    "e = input(\"パートの勤務時間を入力してください\")\n",
    "part_worktime = int(e)\n",
    "f = input(\"パートの人数を入力してください\")\n",
    "part_shiftnumber = int(f)\n",
    "g = input(\"看護師の勤務時間を入力してください\")\n",
    "nurse_worktime = int(g)\n",
    "h = input(\"看護師の人数を入力してください\")\n",
    "nurse_shiftnumber = int(h)\n",
    "i = input(\"要介護利用者数を入力してください\")\n",
    "must_carenumber = int(i)\n",
    "\n",
    "v = shift_analysis(day_woktime, day_shiftnumber, night_worktime, night_shiftnumber, part_worktime, part_shiftnumber, nurse_worktime, nurse_shiftnumber, must_carenumber)\n",
    "print(\"人員配置人数は、\", v, \"です。\")"
   ]
  },
  {
   "cell_type": "code",
   "execution_count": null,
   "metadata": {},
   "outputs": [],
   "source": []
  }
 ],
 "metadata": {
  "kernelspec": {
   "display_name": "Python 3",
   "language": "python",
   "name": "python3"
  },
  "language_info": {
   "codemirror_mode": {
    "name": "ipython",
    "version": 3
   },
   "file_extension": ".py",
   "mimetype": "text/x-python",
   "name": "python",
   "nbconvert_exporter": "python",
   "pygments_lexer": "ipython3",
   "version": "3.8.5"
  }
 },
 "nbformat": 4,
 "nbformat_minor": 4
}
